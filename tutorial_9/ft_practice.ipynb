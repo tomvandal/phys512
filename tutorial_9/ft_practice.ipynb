{
 "cells": [
  {
   "cell_type": "markdown",
   "metadata": {},
   "source": [
    "# Tutorial 9: Playing with interferometric data from the Sun"
   ]
  },
  {
   "cell_type": "code",
   "execution_count": 68,
   "metadata": {},
   "outputs": [],
   "source": [
    "import numpy as np\n",
    "import matplotlib.pyplot as plt\n",
    "% matplotlib inline\n",
    "data = \"/Users/sabrinaberger/Desktop/TA/phys512/tutorial_9/\" # your path to the data\n",
    "sun = np.load(data + \"SunDataRR83.npz\")\n",
    "sunV = moon[\"arr_1\"][12000:21904] # voltages measured\n",
    "sunT = moon[\"arr_0\"][12000:21904] # times of measurements\n",
    "sunTsamp = (moon[\"arr_0\"][len(moon[\"arr_0\"])-1] - moon[\"arr_0\"][0]) / len(sun[\"arr_0\"]) # sampling size from data acquisition"
   ]
  },
  {
   "cell_type": "markdown",
   "metadata": {},
   "source": [
    "Start with a plot of voltage versus time. Do you see a fringe pattern? (What's a fringe pattern? https://www.eso.org/sci/meetings/2015/eris2015/L1_Jackson_Interferometry.pdf)"
   ]
  },
  {
   "cell_type": "code",
   "execution_count": 67,
   "metadata": {},
   "outputs": [
    {
     "data": {
      "text/plain": [
       "[]"
      ]
     },
     "execution_count": 67,
     "metadata": {},
     "output_type": "execute_result"
    },
    {
     "data": {
      "image/png": "[encoded data removed]",
      "text/plain": [
       "<Figure size 432x288 with 1 Axes>"
      ]
     },
     "metadata": {
      "needs_background": "light"
     },
     "output_type": "display_data"
    }
   ],
   "source": [
    "plt.plot() # your code here"
   ]
  },
  {
   "cell_type": "markdown",
   "metadata": {},
   "source": [
    "We're going to calculate the power spectrum of the Sun for some data acquired with the Leuschner Observatory radio telescopes in 2018. The data is in the current folder you've pulled from GitHub (SunDataRR83.npz)."
   ]
  },
  {
   "cell_type": "markdown",
   "metadata": {},
   "source": [
    "Let's write functions to window our data, calculate the Fourier transform and then the power spectrum. Numpy (https://docs.scipy.org/doc/numpy/reference/routines.window.html) offers a variety of windowing functions that we can apply. Test out several of them and choose the one you think works the best!"
   ]
  },
  {
   "cell_type": "code",
   "execution_count": 57,
   "metadata": {},
   "outputs": [],
   "source": [
    "def window(voltage, window_function):\n",
    "    \"\"\"\n",
    "    Write a function to window your function using any of Numpy's windowing functions\n",
    "    \"\"\"\n",
    "    return windowed_voltage\n",
    "\n",
    "def getFT(voltage, times):\n",
    "    \"\"\"\n",
    "    Write a function to take the Fourier transform of your data using Numpy's FFT class\n",
    "    \"\"\"\n",
    "    return\n",
    "\n",
    "def getPower(voltage, freqs):\n",
    "    \"\"\"\n",
    "    Write a function to get the power spectrum of your data\n",
    "    \"\"\"\n",
    "    return"
   ]
  },
  {
   "cell_type": "code",
   "execution_count": null,
   "metadata": {},
   "outputs": [],
   "source": [
    "# Now try plotting the power spectrum!\n",
    "\n",
    "plt.plot() # your code here"
   ]
  },
  {
   "cell_type": "markdown",
   "metadata": {},
   "source": [
    "What do you see? This is pretty messy data so we're not expecting you to see anything too illuminating, but see if you can manipulate the data in some way so you're seeing something other than just one peak. Don't worry about the frequency axis units."
   ]
  },
  {
   "cell_type": "code",
   "execution_count": null,
   "metadata": {},
   "outputs": [],
   "source": []
  }
 ],
 "metadata": {
  "kernelspec": {
   "display_name": "Python 3",
   "language": "python",
   "name": "python3"
  },
  "language_info": {
   "codemirror_mode": {
    "name": "ipython",
    "version": 3
   },
   "file_extension": ".py",
   "mimetype": "text/x-python",
   "name": "python",
   "nbconvert_exporter": "python",
   "pygments_lexer": "ipython3",
   "version": "3.7.0"
  }
 },
 "nbformat": 4,
 "nbformat_minor": 2
}
