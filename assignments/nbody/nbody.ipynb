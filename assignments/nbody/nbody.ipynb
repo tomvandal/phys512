{
 "cells": [
  {
   "cell_type": "markdown",
   "metadata": {},
   "source": [
    "# Final Project: N-Body - Thomas Vandal\n",
    "This notebook displays the results of my N-Body final project in PHYS 512. No actual analysis is presented here since it is somewhat time consuming to perform, so I stored the results previously and show them here. The analysis files are [part1.py](https://github.com/tomvandal/phys512/blob/master/assignments/nbody/part1.py), [part2.py](https://github.com/tomvandal/phys512/blob/master/assignments/nbody/part2.py), [part3.py](https://github.com/tomvandal/phys512/blob/master/assignments/nbody/part3.py), [part4.py](https://github.com/tomvandal/phys512/blob/master/assignments/nbody/part4.py). However, most of code is contained in file [nbody.py](https://github.com/tomvandal/phys512/blob/master/assignments/nbody/nbody.py), which defines a class (NBody) to perform N-Body simulations. More detail is given below. Useful plotting and I/O methods are defined in [utils.py](https://github.com/tomvandal/phys512/blob/master/assignments/nbody/utils.py)."
   ]
  },
  {
   "cell_type": "code",
   "execution_count": 7,
   "metadata": {},
   "outputs": [],
   "source": [
    "# Useful to display .gif files\n",
    "from IPython.display import HTML   "
   ]
  },
  {
   "cell_type": "markdown",
   "metadata": {},
   "source": [
    "## NBody Class\n",
    "The NBody class uses particle mesh (PM) method to compute the potential for a given density grid. This density grid is computed with a nearest grid point (NGP) mass assignment scheme. The forces are computed by differentiating the potential in all directions and the forces are interpolated for each particle using the NGP scheme again, for consistency. Another mass assignment/interpolation scheme could be implemented, such as CIC, but NGP seems satisfying for this project, and it allows to minimize the number of operations per particle. Leapfrog integration is used to compute the velocity and position at each step. When calculating Green's function (potential for one particle in our convolution to obtain the potential grid), we use a softening constant passed as an argument to the NBody object as initialization. We also flip the Green's function in each corner to ensure periodicity. Periodic boundary conditions (BCs) are assumed by default, and non-periodic BCs can be enforced by setting the potential to 0 on the boundary, allowing no particles to be there at initialization."
   ]
  },
  {
   "cell_type": "markdown",
   "metadata": {},
   "source": [
    "## Part 1\n",
    "Here, we simply initializd a particle at rest to show it remains motionless. The total energy is very well conserved, as shown below. We also show an animation of the particle for 50 frames (not too many, too save space, but I tried for up to 1000 and it worked). The grid size was $2^6$, and the softening constant was $0.01$, as we can see in [part1.py](https://github.com/tomvandal/phys512/blob/master/assignments/nbody/part1.py)."
   ]
  },
  {
   "cell_type": "code",
   "execution_count": 9,
   "metadata": {
    "scrolled": false
   },
   "outputs": [
    {
     "name": "stdout",
     "output_type": "stream",
     "text": [
      "Step 0: Total Energy is -20.57731652089349\n",
      "Step 0: Total Energy is -20.57731652089349\n",
      "Step 1: Total Energy is -20.57731652089349\n",
      "Step 2: Total Energy is -20.57731652089349\n",
      "Step 3: Total Energy is -20.57731652089349\n",
      "Step 4: Total Energy is -20.57731652089349\n",
      "Step 5: Total Energy is -20.57731652089349\n",
      "Step 6: Total Energy is -20.57731652089349\n",
      "Step 7: Total Energy is -20.57731652089349\n",
      "Step 8: Total Energy is -20.57731652089349\n",
      "Step 9: Total Energy is -20.57731652089349\n",
      "Step 10: Total Energy is -20.57731652089349\n",
      "Step 11: Total Energy is -20.57731652089349\n",
      "Step 12: Total Energy is -20.57731652089349\n",
      "Step 13: Total Energy is -20.57731652089349\n",
      "Step 14: Total Energy is -20.57731652089349\n",
      "Step 15: Total Energy is -20.57731652089349\n",
      "Step 16: Total Energy is -20.57731652089349\n",
      "Step 17: Total Energy is -20.57731652089349\n",
      "Step 18: Total Energy is -20.57731652089349\n",
      "Step 19: Total Energy is -20.57731652089349\n",
      "Step 20: Total Energy is -20.57731652089349\n",
      "Step 21: Total Energy is -20.57731652089349\n",
      "Step 22: Total Energy is -20.57731652089349\n",
      "Step 23: Total Energy is -20.57731652089349\n",
      "Step 24: Total Energy is -20.57731652089349\n",
      "Step 25: Total Energy is -20.57731652089349\n",
      "Step 26: Total Energy is -20.57731652089349\n",
      "Step 27: Total Energy is -20.57731652089349\n",
      "Step 28: Total Energy is -20.57731652089349\n",
      "Step 29: Total Energy is -20.57731652089349\n",
      "Step 30: Total Energy is -20.57731652089349\n",
      "Step 31: Total Energy is -20.57731652089349\n",
      "Step 32: Total Energy is -20.57731652089349\n",
      "Step 33: Total Energy is -20.57731652089349\n",
      "Step 34: Total Energy is -20.57731652089349\n",
      "Step 35: Total Energy is -20.57731652089349\n",
      "Step 36: Total Energy is -20.57731652089349\n",
      "Step 37: Total Energy is -20.57731652089349\n",
      "Step 38: Total Energy is -20.57731652089349\n",
      "Step 39: Total Energy is -20.57731652089349\n",
      "Step 40: Total Energy is -20.57731652089349\n",
      "Step 41: Total Energy is -20.57731652089349\n",
      "Step 42: Total Energy is -20.57731652089349\n",
      "Step 43: Total Energy is -20.57731652089349\n",
      "Step 44: Total Energy is -20.57731652089349\n",
      "Step 45: Total Energy is -20.57731652089349\n",
      "Step 46: Total Energy is -20.57731652089349\n",
      "Step 47: Total Energy is -20.57731652089349\n",
      "Step 48: Total Energy is -20.57731652089349\n",
      "Step 49: Total Energy is -20.57731652089349\n",
      "\n"
     ]
    },
    {
     "data": {
      "text/html": [
       "<img src=\"./part1.gif\">"
      ],
      "text/plain": [
       "<IPython.core.display.HTML object>"
      ]
     },
     "execution_count": 9,
     "metadata": {},
     "output_type": "execute_result"
    }
   ],
   "source": [
    "# display part 1\n",
    "file1 = open('energy1.txt', 'r')\n",
    "print(file1.read())\n",
    "HTML('<img src=\"./part1.gif\">')"
   ]
  },
  {
   "cell_type": "markdown",
   "metadata": {},
   "source": [
    "## Part 2\n",
    "Here, we initialize two particles (e.g. stars) with opposite velocities perpendicular to their separation axis. With a bit of tuning, this corresponds to a nearly circular orbit. The total energy seems conserved, even though som very small variations occur. We also show an animation of the particle for 200 frames. By setting, the timestep to $5.0$, we can have more displacement, at the cost of some movement precision. The grid size was $2^9$, and the softening constant was $0.1$, as we can see in [part2.py](https://github.com/tomvandal/phys512/blob/master/assignments/nbody/part2.py)."
   ]
  },
  {
   "cell_type": "code",
   "execution_count": 11,
   "metadata": {
    "scrolled": false
   },
   "outputs": [
    {
     "name": "stdout",
     "output_type": "stream",
     "text": [
      "Step 0: Total Energy is -7362.111128119981\n",
      "Step 0: Total Energy is -7362.110299377355\n",
      "Step 1: Total Energy is -7362.109728330724\n",
      "Step 2: Total Energy is -7362.108612463053\n",
      "Step 3: Total Energy is -7362.108031574526\n",
      "Step 4: Total Energy is -7362.10693368551\n",
      "Step 5: Total Energy is -7362.106525566266\n",
      "Step 6: Total Energy is -7362.105414403222\n",
      "Step 7: Total Energy is -7362.104888964802\n",
      "Step 8: Total Energy is -7362.103758786072\n",
      "Step 9: Total Energy is -7362.103160938963\n",
      "Step 10: Total Energy is -7362.10243412024\n",
      "Step 11: Total Energy is -7362.102174483709\n",
      "Step 12: Total Energy is -7362.10134370672\n",
      "Step 13: Total Energy is -7362.10051607151\n",
      "Step 14: Total Energy is -7362.100082094523\n",
      "Step 15: Total Energy is -7362.099051961147\n",
      "Step 16: Total Energy is -7362.099140185967\n",
      "Step 17: Total Energy is -7362.098657270329\n",
      "Step 18: Total Energy is -7362.09856666124\n",
      "Step 19: Total Energy is -7362.097749746802\n",
      "Step 20: Total Energy is -7362.098070605336\n",
      "Step 21: Total Energy is -7362.097786723559\n",
      "Step 22: Total Energy is -7362.098071573977\n",
      "Step 23: Total Energy is -7362.097653380598\n",
      "Step 24: Total Energy is -7362.097873466611\n",
      "Step 25: Total Energy is -7362.097307441927\n",
      "Step 26: Total Energy is -7362.097434454804\n",
      "Step 27: Total Energy is -7362.096722559991\n",
      "Step 28: Total Energy is -7362.0963401636245\n",
      "Step 29: Total Energy is -7362.095104117785\n",
      "Step 30: Total Energy is -7362.094217374521\n",
      "Step 31: Total Energy is -7362.092491723567\n",
      "Step 32: Total Energy is -7362.091534385817\n",
      "Step 33: Total Energy is -7362.091289817262\n",
      "Step 34: Total Energy is -7362.090342204909\n",
      "Step 35: Total Energy is -7362.090047845285\n",
      "Step 36: Total Energy is -7362.089538998349\n",
      "Step 37: Total Energy is -7362.089640599797\n",
      "Step 38: Total Energy is -7362.0890158958955\n",
      "Step 39: Total Energy is -7362.088308387857\n",
      "Step 40: Total Energy is -7362.088140402989\n",
      "Step 41: Total Energy is -7362.087171396398\n",
      "Step 42: Total Energy is -7362.087668705041\n",
      "Step 43: Total Energy is -7362.087364991965\n",
      "Step 44: Total Energy is -7362.087534289352\n",
      "Step 45: Total Energy is -7362.087720979811\n",
      "Step 46: Total Energy is -7362.087181364918\n",
      "Step 47: Total Energy is -7362.087215719664\n",
      "Step 48: Total Energy is -7362.086346044791\n",
      "Step 49: Total Energy is -7362.086760947714\n",
      "Step 50: Total Energy is -7362.087926251913\n",
      "Step 51: Total Energy is -7362.088305445415\n",
      "Step 52: Total Energy is -7362.089466220583\n",
      "Step 53: Total Energy is -7362.089788088062\n",
      "Step 54: Total Energy is -7362.090483985493\n",
      "Step 55: Total Energy is -7362.090326233448\n",
      "Step 56: Total Energy is -7362.0905359263215\n",
      "Step 57: Total Energy is -7362.089906711503\n",
      "Step 58: Total Energy is -7362.090034048581\n",
      "Step 59: Total Energy is -7362.0893752749635\n",
      "Step 60: Total Energy is -7362.0894265309635\n",
      "Step 61: Total Energy is -7362.088774743164\n",
      "Step 62: Total Energy is -7362.08935465439\n",
      "Step 63: Total Energy is -7362.089030535997\n",
      "Step 64: Total Energy is -7362.089300622945\n",
      "Step 65: Total Energy is -7362.088844404541\n",
      "Step 66: Total Energy is -7362.089775512636\n",
      "Step 67: Total Energy is -7362.0899055990085\n",
      "Step 68: Total Energy is -7362.090342125007\n",
      "Step 69: Total Energy is -7362.091220768766\n",
      "Step 70: Total Energy is -7362.092128483812\n",
      "Step 71: Total Energy is -7362.093633296582\n",
      "Step 72: Total Energy is -7362.094411804002\n",
      "Step 73: Total Energy is -7362.095867997768\n",
      "Step 74: Total Energy is -7362.096921728486\n",
      "Step 75: Total Energy is -7362.097370718892\n",
      "Step 76: Total Energy is -7362.098445589739\n",
      "Step 77: Total Energy is -7362.098817416788\n",
      "Step 78: Total Energy is -7362.099934312192\n",
      "Step 79: Total Energy is -7362.100534207105\n",
      "Step 80: Total Energy is -7362.101710291801\n",
      "Step 81: Total Energy is -7362.1031775176625\n",
      "Step 82: Total Energy is -7362.104092248442\n",
      "Step 83: Total Energy is -7362.105274642219\n",
      "Step 84: Total Energy is -7362.10591221496\n",
      "Step 85: Total Energy is -7362.107052610766\n",
      "Step 86: Total Energy is -7362.107676006081\n",
      "Step 87: Total Energy is -7362.108744804667\n",
      "Step 88: Total Energy is -7362.109341513588\n",
      "Step 89: Total Energy is -7362.110319348506\n",
      "Step 90: Total Energy is -7362.11135502967\n",
      "Step 91: Total Energy is -7362.112698253842\n",
      "Step 92: Total Energy is -7362.113536744306\n",
      "Step 93: Total Energy is -7362.1138705010635\n",
      "Step 94: Total Energy is -7362.114493965435\n",
      "Step 95: Total Energy is -7362.115298045182\n",
      "Step 96: Total Energy is -7362.116257448965\n",
      "Step 97: Total Energy is -7362.116773127917\n",
      "Step 98: Total Energy is -7362.116845082036\n",
      "Step 99: Total Energy is -7362.117739450009\n",
      "Step 100: Total Energy is -7362.118190093151\n",
      "Step 101: Total Energy is -7362.118690815466\n",
      "Step 102: Total Energy is -7362.119520786858\n",
      "Step 103: Total Energy is -7362.119938506971\n",
      "Step 104: Total Energy is -7362.120729610259\n",
      "Step 105: Total Energy is -7362.121356852421\n",
      "Step 106: Total Energy is -7362.121625623239\n",
      "Step 107: Total Energy is -7362.122259103559\n",
      "Step 108: Total Energy is -7362.122475603428\n",
      "Step 109: Total Energy is -7362.123091656524\n",
      "Step 110: Total Energy is -7362.1234281105135\n",
      "Step 111: Total Energy is -7362.124128964043\n",
      "Step 112: Total Energy is -7362.1244764062385\n",
      "Step 113: Total Energy is -7362.125195704001\n",
      "Step 114: Total Energy is -7362.125546007204\n",
      "Step 115: Total Energy is -7362.125527315849\n",
      "Step 116: Total Energy is -7362.125690939942\n",
      "Step 117: Total Energy is -7362.125481309024\n",
      "Step 118: Total Energy is -7362.125454366628\n",
      "Step 119: Total Energy is -7362.125058429671\n",
      "Step 120: Total Energy is -7362.12502641119\n",
      "Step 121: Total Energy is -7362.124640981375\n",
      "Step 122: Total Energy is -7362.124604896891\n",
      "Step 123: Total Energy is -7362.124241040731\n",
      "Step 124: Total Energy is -7362.124428874352\n",
      "Step 125: Total Energy is -7362.1241997275165\n",
      "Step 126: Total Energy is -7362.123553600228\n",
      "Step 127: Total Energy is -7362.123265544948\n",
      "Step 128: Total Energy is -7362.122619018323\n",
      "Step 129: Total Energy is -7362.1226233999005\n",
      "Step 130: Total Energy is -7362.122215530199\n",
      "Step 131: Total Energy is -7362.121395409221\n",
      "Step 132: Total Energy is -7362.120894753332\n",
      "Step 133: Total Energy is -7362.120436228352\n",
      "Step 134: Total Energy is -7362.11953397854\n",
      "Step 135: Total Energy is -7362.118921635199\n",
      "Step 136: Total Energy is -7362.11843429275\n",
      "Step 137: Total Energy is -7362.117503225471\n",
      "Step 138: Total Energy is -7362.1173777227195\n",
      "Step 139: Total Energy is -7362.11683996869\n",
      "Step 140: Total Energy is -7362.115889963383\n",
      "Step 141: Total Energy is -7362.115183998963\n",
      "Step 142: Total Energy is -7362.114560291647\n",
      "Step 143: Total Energy is -7362.114260025818\n",
      "Step 144: Total Energy is -7362.113542779534\n",
      "Step 145: Total Energy is -7362.1132062151555\n",
      "Step 146: Total Energy is -7362.112397561113\n",
      "Step 147: Total Energy is -7362.112025051019\n",
      "Step 148: Total Energy is -7362.111135540435\n",
      "Step 149: Total Energy is -7362.11073031035\n",
      "Step 150: Total Energy is -7362.109780259229\n",
      "Step 151: Total Energy is -7362.109078606649\n",
      "Step 152: Total Energy is -7362.107824458984\n",
      "Step 153: Total Energy is -7362.106837987544\n",
      "Step 154: Total Energy is -7362.105306695066\n",
      "Step 155: Total Energy is -7362.104333684225\n",
      "Step 156: Total Energy is -7362.102843672891\n",
      "Step 157: Total Energy is -7362.1019116569205\n",
      "Step 158: Total Energy is -7362.10049534831\n",
      "Step 159: Total Energy is -7362.099710846095\n",
      "Step 160: Total Energy is -7362.098321603569\n",
      "Step 161: Total Energy is -7362.09750940907\n",
      "Step 162: Total Energy is -7362.096541597616\n",
      "Step 163: Total Energy is -7362.096093888953\n",
      "Step 164: Total Energy is -7362.095075039832\n",
      "Step 165: Total Energy is -7362.09404889278\n",
      "Step 166: Total Energy is -7362.093469552161\n",
      "Step 167: Total Energy is -7362.09315695114\n",
      "Step 168: Total Energy is -7362.092043328398\n",
      "Step 169: Total Energy is -7362.091265625735\n",
      "Step 170: Total Energy is -7362.0908783918485\n",
      "Step 171: Total Energy is -7362.08976485261\n",
      "Step 172: Total Energy is -7362.089140723267\n",
      "Step 173: Total Energy is -7362.088510001304\n",
      "Step 174: Total Energy is -7362.08847119108\n",
      "Step 175: Total Energy is -7362.087729337059\n",
      "Step 176: Total Energy is -7362.087667513754\n",
      "Step 177: Total Energy is -7362.088378792106\n",
      "Step 178: Total Energy is -7362.08825116277\n",
      "Step 179: Total Energy is -7362.0885020898495\n",
      "Step 180: Total Energy is -7362.087899367453\n",
      "Step 181: Total Energy is -7362.087679506233\n",
      "Step 182: Total Energy is -7362.086620737321\n",
      "Step 183: Total Energy is -7362.086351432481\n",
      "Step 184: Total Energy is -7362.085296016945\n",
      "Step 185: Total Energy is -7362.084993949492\n",
      "Step 186: Total Energy is -7362.08398883824\n",
      "Step 187: Total Energy is -7362.084209134049\n",
      "Step 188: Total Energy is -7362.083525400239\n",
      "Step 189: Total Energy is -7362.083502297827\n",
      "Step 190: Total Energy is -7362.082752890064\n",
      "Step 191: Total Energy is -7362.083430221315\n",
      "Step 192: Total Energy is -7362.083306530844\n",
      "Step 193: Total Energy is -7362.084682263578\n",
      "Step 194: Total Energy is -7362.085256974589\n",
      "Step 195: Total Energy is -7362.085928429002\n",
      "Step 196: Total Energy is -7362.087198955139\n",
      "Step 197: Total Energy is -7362.087743175926\n",
      "Step 198: Total Energy is -7362.088980575428\n",
      "Step 199: Total Energy is -7362.08987184137\n",
      "\n"
     ]
    },
    {
     "data": {
      "text/html": [
       "<img src=\"./part1.gif\">"
      ],
      "text/plain": [
       "<IPython.core.display.HTML object>"
      ]
     },
     "execution_count": 11,
     "metadata": {},
     "output_type": "execute_result"
    }
   ],
   "source": [
    "# display part 2\n",
    "file1 = open('energy2.txt', 'r')\n",
    "print(file1.read())\n",
    "HTML('<img src=\"./part1.gif\">')"
   ]
  },
  {
   "cell_type": "markdown",
   "metadata": {},
   "source": [
    "## Part 3\n",
    "Here, we initialize a lot ($2^{17}$) of particles, at rest. The mass is scattered according to a random uniform disitribution, since all particles have equal masses and their positions are randomly scattered. We also show an animation of the particle for 400 frames (220 for non-periodic). By setting, the timestep to $100.0$, we have a system that is evolving faster, but the fine motions of individual particles are less precise when doing this. The grid size was $2^9$, and the softening constant was $1.0$, as we can see in [part3.py](https://github.com/tomvandal/phys512/blob/master/assignments/nbody/part3.py). To test both periodic and non-periodic boundary conditions, we simply change the \"bc\" argument in the script. Results for both are shown below."
   ]
  },
  {
   "cell_type": "markdown",
   "metadata": {},
   "source": [
    "### Periodic BCs\n",
    "We use periodic BCs as described at the begining. We see that the particles tend to group in clusters, as expected. Until the form one big cluster at the end. We also see that some particles stay in the space be tween clusters. This tends to diminish, when increasing softening constant, and would probably be better with a smaller timestep, given more powerful computing resources. The total energy seems conserves, despite very small oscillations. However, I would expect it to blow up at some points, after all particles have collapsed together later in the simulation. There is a small trend toward increasing energy on long timescales."
   ]
  },
  {
   "cell_type": "markdown",
   "metadata": {},
   "source": [
    "### Non-Periodic BCs\n",
    "We use non-periodic BCs as described at the begining. We see that the particles tend to group in clusters, previously, but they now all collapse towards the center, since the space is closed. They then scatter (apparently) randomly. The total energy seems conserved at first, despite small oscillations, but it starts increasing faster at the end. The collapsing particles result in an instability when they scatter around after being very compact."
   ]
  },
  {
   "cell_type": "markdown",
   "metadata": {},
   "source": [
    "## Part 4\n",
    "To start with scale invariant power spectrum, I followed the procedure from [this paper](https://cds.cern.ch/record/583256/files/0209590.pdf). I started by initializing randomly scattered masses as in part 3. I found $k$ everywhere on the grid with np.fft.rfftfreq. Then, I generated spatial mass variations with amplitudes drawn from a Rayleigh distribution with $\\sigma^2 = P(k)$, and phases drawn from a uniform distribution between $0$ and $2\\pi$. As given in the problem, the power spectrum was $P(k)=1/k^3$. Using the mass fluctuations obtain, we derive a new density for each cells and assign corresponding masses to each particles using an NGP-like scheme. These new masses are used for the remainder of the simulation.\n",
    "\n",
    "With the same parameters as in part 3, we simulate a universe with a scale invariant power spectrum as described above. The main difference at early stages is that instead of being randomly and evenly scattered, there are some points with very intense mass densities and some points with much lower mass densities, as a result from the fluctuations we applied. Of course, the first clusters tend to form around these high-density regions, and then the system evolves in a similar manner to part 3, but with more compact cluster (however, with varying parameters, the particle seem to scatter away from the clusters, leaving a lot of particles between the more dense clusters). In general, it seems that the system takes more time before all collapsing in one big cluster (possibly because of the higher density of each small cluster due to the mass fluctuations)."
   ]
  }
 ],
 "metadata": {
  "kernelspec": {
   "display_name": "Python 3",
   "language": "python",
   "name": "python3"
  },
  "language_info": {
   "codemirror_mode": {
    "name": "ipython",
    "version": 3
   },
   "file_extension": ".py",
   "mimetype": "text/x-python",
   "name": "python",
   "nbconvert_exporter": "python",
   "pygments_lexer": "ipython3",
   "version": "3.7.4"
  }
 },
 "nbformat": 4,
 "nbformat_minor": 2
}
