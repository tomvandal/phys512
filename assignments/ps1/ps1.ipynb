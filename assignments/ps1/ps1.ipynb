{
 "cells": [
  {
   "cell_type": "markdown",
   "metadata": {},
   "source": [
    "# Problem set 1 - Thomas Vandal"
   ]
  },
  {
   "cell_type": "code",
   "execution_count": 1,
   "metadata": {},
   "outputs": [],
   "source": [
    "# all imports for the problem set\n",
    "import numpy as np\n",
    "import matplotlib.pyplot as plt\n",
    "from scipy import interpolate\n",
    "from scipy.integrate import quad\n",
    "\n",
    "import integrals as integ"
   ]
  },
  {
   "cell_type": "markdown",
   "metadata": {},
   "source": [
    "## Problem 1\n",
    "Numerical derivatives with four points to evaluate ($x \\pm \\delta$, $x \\pm 2\\delta$).\n",
    "\n",
    "### Part (a)\n",
    "Find an estimate of the first derivative at x.\n",
    "\n",
    "First, let's Taylor expand $f$ at the points mentionned above:\n",
    "$$\n",
    "f(x \\pm \\delta) \\approx f(x) \\pm f'(x)\\delta + \\frac{f''(x)\\delta^2}{2} \\pm \\frac{f'''(x)\\delta^3}{6} + \\frac{f^{(4)}(x)\\delta^4}{24} \\pm \\frac{f^{(5)}(x)\\delta^5}{120},\n",
    "$$\n",
    "$$\n",
    "f(x \\pm 2\\delta) \\approx f(x) \\pm 2 f'(x)\\delta + \\frac{4 f''(x)\\delta^2}{2} \\pm \\frac{8 f'''(x)\\delta^3}{6} + \\frac{16 f^{(4)}(x)\\delta^4}{24} \\pm \\frac{32 f^{(5)}(x)\\delta^5}{120}.\n",
    "$$\n",
    "We then subtract the superior and inferior point for each set, as we would do in a two-sided derivative. This gives us\n",
    "$$\n",
    "f(x + \\delta) - f(x - \\delta) \\approx 2 f'(x)\\delta + \\frac{f'''(x)\\delta^3}{3} + \\frac{f^{(5)}(x)\\delta^5}{60},\n",
    "$$\n",
    "and\n",
    "$$\n",
    "f(x + 2\\delta) - f(x - 2\\delta) \\approx 4 f'(x)\\delta + \\frac{8 f'''(x)\\delta^3}{3} + \\frac{f^{(5)}(x)\\delta^5}{60}.\n",
    "$$\n",
    "We can now take a linear combination of these two equations to cancel the $\\delta^3$ terms, resulting in\n",
    "$$\n",
    "8\\left[f(x + \\delta) - f(x - \\delta)\\right] - \\left[f(x + 2\\delta) - f(x - 2\\delta)\\right] \\approx 12\\delta f'(x) - \\frac{2}{5}\\delta^5 f^{(5)}(x),\n",
    "$$\n",
    "which we can solve for f'(x) to find\n",
    "$$\n",
    "f'(x) \\approx \\frac{8 f(x + \\delta) - 8 f(x - \\delta) - f(x + 2\\delta) + f(x - 2\\delta)}{12\\delta} + \\frac{\\delta^4}{30}f^{(5)}(x).\n",
    "$$\n",
    "The $\\delta^4$ term is the leading term of the truncating error, $e_t$, coming from the series approximation, so our final estimation of the derivative at x is\n",
    "$$\n",
    "f'(x) \\approx \\frac{8 f(x + \\delta) - 8 f(x - \\delta) - f(x + 2\\delta) + f(x - 2\\delta)}{12\\delta}.\n",
    "$$\n",
    "\n",
    "### Part (b)\n",
    "Find the optimal value of $\\delta$. Show that this estimate is at least roughly correct for $f(x)=\\exp{x}$ and $f(x)=\\exp{0.01 x}$.\n",
    "\n",
    "We saw the truncation error $e_t$ in (a), but we should also account for the roundoff error, $e_r$. In general, the numerical representation of a function evaluation can be given by $\\bar{f}(x) = f(x)(1+g_0\\epsilon)$ where $g_0$ is a random number of order unity and $\\epsilon$ is the machine precision ($~10^{-7}$ for single precision, $~10^{-16}$ for double). Using this, we get\n",
    "$$\n",
    "\\bar{f}'(x) = \\frac{8 \\bar{f}(x + \\delta) - 8 \\bar{f}(x - \\delta) - \\bar{f}(x + 2\\delta) + \\bar{f}(x - 2\\delta)}{12\\delta} + \\frac{\\delta^4}{30}f^{(5)}(x),\n",
    "$$\n",
    "or equivalently\n",
    "$$\n",
    "\\bar{f}'(x) = \\frac{8 (1+g_{1,+}\\epsilon)f(x + \\delta) - 8 (1+g_{1,-}\\epsilon)f(x - \\delta) - (1+g_{2,+}\\epsilon)f(x + 2\\delta) + (1+g_{2,-}\\epsilon)f(x - 2\\delta)}{12\\delta} + \\frac{\\delta^4}{30}f^{(5)}(x).\n",
    "$$\n",
    "The terms with $\\epsilon$ are errors, so we take the leading terms as we did in class, approximate the $g_{i,\\pm}$'s as 1 and obtain (in absolute value)\n",
    "$$\n",
    "\\bar{f}'(x) = \\frac{8 f(x + \\delta) - 8 f(x - \\delta) - f(x + 2\\delta) + f(x - 2\\delta)}{12\\delta} + \\frac{\\epsilon}{\\delta}\\left|{\\frac{18}{12}}f(x)\\right| + \\frac{\\delta^4}{30}f^{(5)}(x),\n",
    "$$\n",
    "so our total error is \n",
    "$$\n",
    "E = \\left|\\bar{f}'(x)-f(x)\\right| = e_r + e_t = \\frac{3\\epsilon }{2\\delta}\\left|f(x)\\right| + \\frac{\\delta^4}{30}\\left|f^{(5)}(x)\\right|.\n",
    "$$\n",
    "We now need to find the value of $\\delta$ that minimizes $E$. Differentiating $E$ w.r.t. $\\delta$ and equating to $0$, we find\n",
    "$$\n",
    "\\delta = \\left(\\frac{45 f(x)}{4 f^{(5)}}\\epsilon\\right)^{(1/5)},\n",
    "$$\n",
    "which is our optimal $\\delta$ to minimize the error.\n",
    "\n",
    "We will now test this optimal $\\delta$ prediction."
   ]
  },
  {
   "cell_type": "code",
   "execution_count": 2,
   "metadata": {},
   "outputs": [],
   "source": [
    "\"\"\"\n",
    "Test for the optimal delta, question 1b of problem set 1.\n",
    "\"\"\"\n",
    "import numpy as np\n",
    "import matplotlib.pyplot as plt\n",
    "\n",
    "\n",
    "def check_delta(x, a, delta_arr=np.logspace(-15, 1, num=50), eps=1e-16,\n",
    "                plotfile=None):\n",
    "    \"\"\" Script to verify delta optimization\n",
    "\n",
    "        Test the equations derived above on exponential function.\n",
    "        This function is just a script allowing to change\n",
    "        the test parameters easily.\n",
    "\n",
    "        Args:\n",
    "            x: where we evaluate the derivative\n",
    "            a: coefficient multiplying x in the exponential\n",
    "            delta_arr: values of delta where the equations are tested\n",
    "            eps: machine precision\n",
    "                 (python floats have double precision so default=1e-16)\n",
    "\n",
    "        Prints a short report and produces a plot of E vs delta.\n",
    "    \"\"\"\n",
    "    # Function depending on the parameters of check_delta\n",
    "    def diff(func, x, delta):\n",
    "        \"\"\"Five point differentiator\n",
    "        Args:\n",
    "            func: function to differentiate\n",
    "            x: value at which we take the derivative\n",
    "            delta: step size\n",
    "\n",
    "        returns:\n",
    "            deriv: first derivative of func at x\n",
    "        \"\"\"\n",
    "        deriv = ((8.0*func(x+delta)\n",
    "                  - 8.0*func(x-delta)\n",
    "                  - func(x+2.0*delta)\n",
    "                  + func(x-2.0*delta)) / (12.0*delta))\n",
    "\n",
    "        return deriv\n",
    "\n",
    "    def optdelta(func, funcd5, x, eps=eps):\n",
    "        \"\"\"Optimal step size for five point differentiator\n",
    "        Args:\n",
    "            func: function to differentiate\n",
    "            funcd5: fifth derivative of func\n",
    "            x: value where we take the derivative\n",
    "            eps: machine precision (default: 1e-16, approx double precision)\n",
    "        Returns:\n",
    "            delta: best step size to choose to derive func at x\n",
    "        \"\"\"\n",
    "        delta = (45.0 * func(x) * eps / (4.0*funcd5(x)))**0.2\n",
    "\n",
    "        return delta\n",
    "\n",
    "    def exp(x, a=a):\n",
    "        \"\"\"Exponential function\n",
    "        Args:\n",
    "            x: values where we evaluate the function\n",
    "            a: coefficient mulitplying x in exp\n",
    "        Returns:\n",
    "            exp(a*x)\n",
    "        \"\"\"\n",
    "        return np.exp(a*x)\n",
    "\n",
    "    def expdiff(x, a=a, n=5):\n",
    "        \"\"\"Nth derivative of exp(a*x)\n",
    "        Args:\n",
    "            x: values where we evaluate the function\n",
    "            a: coefficient mulitplying x in exp\n",
    "            n: order of the derivative to be returned\n",
    "        Returns:\n",
    "            a**n * exp(a*n)\n",
    "        \"\"\"\n",
    "        return a**n * np.exp(a*x)\n",
    "\n",
    "    # evaluate error and delta prediction\n",
    "    deriv_arr = diff(exp, x, delta_arr)\n",
    "    deriv_true = expdiff(x, n=1)\n",
    "    err_arr = np.abs(deriv_arr - deriv_true)\n",
    "    delta_pred = optdelta(exp, expdiff, x)\n",
    "\n",
    "    # print some info\n",
    "    print(\"Derivative of exp({} * x) at x={}\".format(a, x))\n",
    "    print(\"  Predicted delta:\", delta_pred)\n",
    "    print(\"  Delta giving minimal error:\", delta_arr[np.argmin(err_arr)])\n",
    "    print()\n",
    "\n",
    "    plt.plot(delta_arr, err_arr, 'k.', label=r\"Calculated error\")\n",
    "    plt.axvline(delta_pred, linestyle='--', label=r\"Predicted $\\delta$\")\n",
    "    plt.xlabel(r\"$\\delta$\", fontsize=14)\n",
    "    plt.ylabel(r\"$E$\", fontsize=14)\n",
    "    plt.title(r\"Error vs. step size\", fontsize=18)\n",
    "    plt.tick_params(labelsize=12)\n",
    "    plt.xscale(\"log\")\n",
    "    plt.yscale(\"log\")\n",
    "    if plotfile is not None:\n",
    "        plt.savefig(plotfile)\n",
    "        plt.close()\n",
    "    else:\n",
    "        plt.show()"
   ]
  },
  {
   "cell_type": "code",
   "execution_count": 3,
   "metadata": {
    "scrolled": false
   },
   "outputs": [
    {
     "name": "stdout",
     "output_type": "stream",
     "text": [
      "Derivative of exp(1.0 * x) at x=0.0\n",
      "  Predicted delta: 0.0010238362555396092\n",
      "  Delta giving minimal error: 0.0005689866029018281\n",
      "\n"
     ]
    },
    {
     "data": {
      "image/png": "[encoded data removed]",
      "text/plain": [
       "<Figure size 432x288 with 1 Axes>"
      ]
     },
     "metadata": {
      "needs_background": "light"
     },
     "output_type": "display_data"
    },
    {
     "name": "stdout",
     "output_type": "stream",
     "text": [
      "Derivative of exp(0.01 * x) at x=0.0\n",
      "  Predicted delta: 0.10238362555396095\n",
      "  Delta giving minimal error: 0.10985411419875572\n",
      "\n"
     ]
    },
    {
     "data": {
      "image/png": "[encoded data removed]",
      "text/plain": [
       "<Figure size 432x288 with 1 Axes>"
      ]
     },
     "metadata": {
      "needs_background": "light"
     },
     "output_type": "display_data"
    }
   ],
   "source": [
    "# test at x=0\n",
    "check_delta(0.0, 1.0, plotfile=None)\n",
    "check_delta(0.0, 0.01, plotfile=None)"
   ]
  },
  {
   "cell_type": "code",
   "execution_count": 4,
   "metadata": {},
   "outputs": [
    {
     "name": "stdout",
     "output_type": "stream",
     "text": [
      "Derivative of exp(1.0 * x) at x=100.0\n",
      "  Predicted delta: 0.0010238362555396092\n",
      "  Delta giving minimal error: 0.0025595479226995332\n",
      "\n"
     ]
    },
    {
     "data": {
      "image/png": "[encoded data removed]",
      "text/plain": [
       "<Figure size 432x288 with 1 Axes>"
      ]
     },
     "metadata": {
      "needs_background": "light"
     },
     "output_type": "display_data"
    },
    {
     "name": "stdout",
     "output_type": "stream",
     "text": [
      "Derivative of exp(0.01 * x) at x=100.0\n",
      "  Predicted delta: 0.10238362555396095\n",
      "  Delta giving minimal error: 0.05179474679231202\n",
      "\n"
     ]
    },
    {
     "data": {
      "image/png": "[encoded data removed]",
      "text/plain": [
       "<Figure size 432x288 with 1 Axes>"
      ]
     },
     "metadata": {
      "needs_background": "light"
     },
     "output_type": "display_data"
    }
   ],
   "source": [
    "# test at x=100\n",
    "check_delta(100.0, 1.0, plotfile=None)\n",
    "check_delta(100.0, 0.01, plotfile=None)"
   ]
  },
  {
   "cell_type": "markdown",
   "metadata": {},
   "source": [
    "By performing the same tests at $x=0,100$, and $a=1, 0.01$, we see that the predicted $\\delta$'s are reasonably close to the value found in the test. Some $\\delta$'s are off by a factor of two, which could be due to the truncation error, but the answers are still have the same order of magnitude, which is reasonably close.\n",
    "\n",
    "## Problem 2\n",
    "We use a scipy cubic spline to interpolate. To get a rough estimate of the error, we use the provided derivative, the spline calculated derivative and the following:\n",
    "$$\n",
    "f'(x) \\approx \\frac{\\Delta f}{\\Delta x}.\n",
    "$$\n",
    "We then subtract the two derivatives (table and spline) to get\n",
    "$$\n",
    "\\left| f_s - f_t \\right| = \\left| \\left(f_s' - f_t'\\right)\\left(x-x_0\\right) \\right|\n",
    "$$\n",
    "for a given x and its closest tabulated value $x_0$ (the $f_0$'s have cancelled each other cancel in the equation above."
   ]
  },
  {
   "cell_type": "code",
   "execution_count": 5,
   "metadata": {},
   "outputs": [
    {
     "name": "stdout",
     "output_type": "stream",
     "text": [
      "Mean estimated error: 1.4633431888467847e-05\n"
     ]
    },
    {
     "data": {
      "image/png": "[encoded data removed]",
      "text/plain": [
       "<Figure size 432x288 with 1 Axes>"
      ]
     },
     "metadata": {
      "needs_background": "light"
     },
     "output_type": "display_data"
    }
   ],
   "source": [
    "# where plot will be saved\n",
    "plotfile = None  # \"q2.png\"\n",
    "\n",
    "\n",
    "# the routine asked for in the problem set\n",
    "def interp(spln, xnew, xknown=None, deriv_true=None):\n",
    "    \"\"\"Interpolate using a spline (with error estimate)\n",
    "\n",
    "    Interpolation is performed with scipy.interpolate.splev.\n",
    "\n",
    "    The (rough) estimate of the error is obtained by comparing linear\n",
    "    extrapolations of the derivatives, since the only extra info we have about\n",
    "    the tabulated values is the derivative, and the spline takes the exact\n",
    "    value at knots.\n",
    "\n",
    "    Args:\n",
    "        spln (tuple): tuple with knots, coefficients, and order\n",
    "                      (as returned by scipy.interpolate.splrep)\n",
    "        xnew (array): x-values where we want to interpolate the function\n",
    "                      represented by spln\n",
    "        xknown (array): x values used to calculate spln (default: None)\n",
    "        deriv_true (array): true derivative at known\n",
    "    Returns:\n",
    "        ynew (array): y-values of the interpolation\n",
    "        err (array): estimated error at each y value\n",
    "                       (returned only if known and deriv_true are given)\n",
    "    \"\"\"\n",
    "    # evaluate the spline (ynew)\n",
    "    ynew = interpolate.splev(xnew, spln)\n",
    "\n",
    "    # evaluate error at each point if needed\n",
    "    if xknown is not None and deriv_true is not None:\n",
    "        # get first derivative of the spline at known x\n",
    "        yp = interpolate.splev(xknown, spln, der=1)\n",
    "\n",
    "        # get x, deriv, and yp at closest xknwon for each xnew\n",
    "        iprox = []\n",
    "        for k in range(len(xnew)):\n",
    "            iprox.append(np.abs(xnew[k] - xknown).argmin())\n",
    "        x_prox = xknown[iprox]     # known x\n",
    "        deriv_prox = deriv_true[iprox]  # given true deriv\n",
    "        yp_prox = yp[iprox]        # spline derivative\n",
    "\n",
    "        # get rough estimate of the error. At given point x with closest known\n",
    "        # point x0, f0:\n",
    "        # f' \\approx \\delta f /\\delta x\n",
    "        # => abs(f_s' - f_t') =  abs((f_s - f0 - f_t + f_0)/(x-x0))\n",
    "        # => abs(f_s - f_t) = abs((f_s' - f_t')/(x-x0))\n",
    "        err = np.abs((yp_prox-deriv_prox)*(xnew-x_prox))\n",
    "\n",
    "        return ynew, err\n",
    "\n",
    "    return ynew\n",
    "\n",
    "\n",
    "# load diode data (K, V, mV/K)\n",
    "temp, volt, dvdt = np.loadtxt(\n",
    "                \"./lakeshore.txt\").T\n",
    "dvdt *= 1e-3  # adjust derivative\n",
    "\n",
    "# use scipy to setup spline that we will use later\n",
    "spln = interpolate.splrep(temp, volt)  # default is cubic (k=3, see docs)\n",
    "\n",
    "\n",
    "# test an interpolation\n",
    "xinter = np.linspace(temp.min(),\n",
    "                     temp.max(),\n",
    "                     num=10000)  # many pts to model dense region near 0\n",
    "xinter = np.append(xinter, temp)\n",
    "xinter = np.unique(xinter)\n",
    "yinter, einter = interp(spln, xinter, xknown=temp, deriv_true=dvdt)\n",
    "\n",
    "# mean estimated error (I get around 1e-5)\n",
    "print(\"Mean estimated error: {}\".format(np.mean(einter)))\n",
    "\n",
    "# plot of the data along the interpolation\n",
    "# Note: the error is not visible unless we zoom in\n",
    "plt.plot(temp, volt, 'k.', label='Lakeshore data')\n",
    "plt.plot(xinter, yinter, 'r', label='Spline interpolation')\n",
    "plt.fill_between(xinter, yinter+3*einter, yinter-3*einter,\n",
    "                 color='r', alpha=0.3,\n",
    "                 label=r'Spline 3$\\sigma$ interval (not visible)')\n",
    "plt.xlabel('Temperature $T$ (K)', fontsize=14)\n",
    "plt.ylabel('Voltage $V$ (V)', fontsize=14)\n",
    "plt.legend(fontsize=14)\n",
    "if plotfile is not None:\n",
    "    plt.savefig(plotfile)\n",
    "    plt.close()\n",
    "else:\n",
    "    plt.show()\n"
   ]
  },
  {
   "cell_type": "markdown",
   "metadata": {},
   "source": [
    "## Problem 3\n",
    "The efficent and \"lazy\" integrators for this problem are in the file integrals.py. Instead of directly using a linspace and calling the function eveytime, we can store the values and reuse them directly in a recursive method. Only two function evaluations per recursive call are needed, instead of 5 per call as above (or even 6 per call for some less efficient methods).\n",
    "\n",
    "We see below that the error is reasonable, that we are relatively close to the analytical answer, and that our new integrator requires a bit less than half the calls, as expected."
   ]
  },
  {
   "cell_type": "code",
   "execution_count": 6,
   "metadata": {},
   "outputs": [
    {
     "name": "stdout",
     "output_type": "stream",
     "text": [
      "Integrating exp\n",
      "  Lazy method: f, myerr, neval= 2.350402717226764, 0.00023419190498064069, 25. Err=3.299391613253988e-07\n",
      "  Efficient method: f, myerr, neval= 2.350402717226764, 0.00023419190498052966, 13. Err=3.299391613253988e-07\n",
      "Integrating fun1\n",
      "  Lazy method: f, myerr, neval= 1.5707963305712818, 2.357748463668874e-05, 75. Err=3.776385204545818e-09\n",
      "  Efficient method: f, myerr, neval= 1.5707963305712815, 2.3577484636577717e-05, 33. Err=3.776384982501213e-09\n",
      "Integrating fun2\n",
      "  Lazy method: f, myerr, neval= 10.250662846829037, 3.532927117438911e-06, 335. Err=1.936593641005402e-08\n",
      "  Efficient method: f, myerr, neval= 10.250662846829037, 3.5329271178552446e-06, 137. Err=1.936593641005402e-08\n"
     ]
    }
   ],
   "source": [
    "\"\"\"\n",
    "Tets the integrators from integrals.py\n",
    "\"\"\"\n",
    "import numpy as np\n",
    "\n",
    "import integrals as integ\n",
    "\n",
    "sig = 0.1  # used in f2 def, but needed later\n",
    "\n",
    "\n",
    "def fun0(x):\n",
    "    return np.exp(x)\n",
    "\n",
    "\n",
    "def fun1(x):\n",
    "    return 1.0/(1.0+x**2)\n",
    "\n",
    "\n",
    "def fun2(x, sig=sig):\n",
    "    return 1.0+np.exp(-0.5*x**2/(sig**2))\n",
    "\n",
    "\n",
    "# From these evaluations, we see that both integrators give similar errors\n",
    "# wrt the analytic integral. We see that we need about half the functions calls\n",
    "# compared to the lazy integration method when we use the efficient\n",
    "# (a bit less as we see when neval is high).\n",
    "print(\"Integrating exp\")\n",
    "a, b = -1.0, 1.0\n",
    "pred = np.exp(b) - np.exp(a)\n",
    "f_lazy, myerr_lazy, neval_lazy = integ.lazy_integrate(fun0, a, b, 1e-3)\n",
    "f_eff, myerr_eff, neval_eff = integ.eff_integrate(fun0, a, b, 1e-3)\n",
    "print(\"  Lazy method: f, myerr, neval= {}, {}, {}. Err={}\".format(f_lazy,\n",
    "                                                                  myerr_lazy,\n",
    "                                                                  neval_lazy,\n",
    "                                                                  f_lazy-pred))\n",
    "print(\"  Efficient method: f, myerr, neval= {}, {}, {}. Err={}\".format(\n",
    "                                                                  f_eff,\n",
    "                                                                  myerr_eff,\n",
    "                                                                  neval_eff,\n",
    "                                                                  f_eff-pred))\n",
    "\n",
    "print(\"Integrating fun1\")\n",
    "a, b = -1.0, 1.0\n",
    "pred = np.arctan(b) - np.arctan(a)\n",
    "f_lazy, myerr_lazy, neval_lazy = integ.lazy_integrate(fun1, a, b, 1e-4)\n",
    "f_eff, myerr_eff, neval_eff = integ.eff_integrate(fun1, a, b, 1e-4)\n",
    "print(\"  Lazy method: f, myerr, neval= {}, {}, {}. Err={}\".format(f_lazy,\n",
    "                                                                  myerr_lazy,\n",
    "                                                                  neval_lazy,\n",
    "                                                                  f_lazy-pred))\n",
    "print(\"  Efficient method: f, myerr, neval= {}, {}, {}. Err={}\".format(\n",
    "                                                                  f_eff,\n",
    "                                                                  myerr_eff,\n",
    "                                                                  neval_eff,\n",
    "                                                                  f_eff-pred))\n",
    "\n",
    "print(\"Integrating fun2\")\n",
    "a, b = -5.0, 5.0\n",
    "pred = (b-a) + np.sqrt(2*np.pi)*sig\n",
    "f_lazy, myerr_lazy, neval_lazy = integ.lazy_integrate(fun2, a, b, 1e-4)\n",
    "f_eff, myerr_eff, neval_eff = integ.eff_integrate(fun2, a, b, 1e-4)\n",
    "print(\"  Lazy method: f, myerr, neval= {}, {}, {}. Err={}\".format(f_lazy,\n",
    "                                                                  myerr_lazy,\n",
    "                                                                  neval_lazy,\n",
    "                                                                  f_lazy-pred))\n",
    "print(\"  Efficient method: f, myerr, neval= {}, {}, {}. Err={}\".format(\n",
    "                                                                  f_eff,\n",
    "                                                                  myerr_eff,\n",
    "                                                                  neval_eff,\n",
    "                                                                  f_eff-pred))\n"
   ]
  },
  {
   "cell_type": "markdown",
   "metadata": {},
   "source": [
    "## Problem 4\n",
    "For this problem, we need to integrate  the function\n",
    "$$\n",
    "f(u) = \\frac{z - Ru}{(R^2 + z^2 - 2Rzu)^(3/2)}\n",
    "$$\n",
    "from -1 to 1. As we see below, there is a singularity in the integral when z=R and u=1. I edited the integrator from 3 so that it is compatible with arrays (multiple z at a time). I also had to edit it because it was not converging at the singularity. I used an exploration of the problemtic u's nbhd to find a close approximation (see the 3 while loops in integrals.py). This exploration method is not very elaborated and is probably not, well suited for all similar problems, but it works well here. The results are the same as those from scipy's quad."
   ]
  },
  {
   "cell_type": "code",
   "execution_count": 7,
   "metadata": {},
   "outputs": [
    {
     "name": "stderr",
     "output_type": "stream",
     "text": [
      "/home/thomas/anaconda3/lib/python3.7/site-packages/ipykernel_launcher.py:28: RuntimeWarning: invalid value encountered in true_divide\n"
     ]
    },
    {
     "data": {
      "image/png": "[encoded data removed]",
      "text/plain": [
       "<Figure size 432x288 with 1 Axes>"
      ]
     },
     "metadata": {
      "needs_background": "light"
     },
     "output_type": "display_data"
    }
   ],
   "source": [
    "\"\"\"\n",
    "Solution to question 4: integrating to get the E-field of  a spherical shell\n",
    "\"\"\"\n",
    "import numpy as np\n",
    "import matplotlib.pyplot as plt\n",
    "from scipy.integrate import quad\n",
    "\n",
    "import integrals as integ\n",
    "\n",
    "# R value and z array\n",
    "R = 1.0\n",
    "zvals = np.linspace(1e-3, 5, num=100)  # z values >, < & == R\n",
    "zvals = np.append(zvals, R)\n",
    "zvals = np.unique(zvals)\n",
    "plotfile = None  # \"q4.png\", where plot is saved\n",
    "\n",
    "\n",
    "# setting up the problem\n",
    "def fu(u, z=zvals, R=1.0):\n",
    "    \"\"\"Integrand for the E-field (see griffiths problem 2.7 for derivation)\n",
    "    Args:\n",
    "        u: values at which we evaluate f\n",
    "        z: position on the z axis\n",
    "        R: radius of the shell\n",
    "    Returns\n",
    "        f: function value at u\n",
    "    \"\"\"\n",
    "    f = (z - R*u) / (R**2 + z**2 - 2*R*z*u)**(1.5)\n",
    "\n",
    "    return f\n",
    "\n",
    "\n",
    "def Efield(z, R=1.0):\n",
    "    \"\"\"Analytical soln for E-field along z axis\n",
    "    Args:\n",
    "        z: position on the z axis\n",
    "        R: radius of the shell\n",
    "    Returns:\n",
    "        efield: E-field at z\n",
    "    \"\"\"\n",
    "    try:\n",
    "        efield = np.zeros(len(z))\n",
    "    except TypeError:\n",
    "        efield = np.zeros(1)\n",
    "\n",
    "    # inside stays 0. assign others\n",
    "    efield[z > R] = z[z > R]**(-2.0)\n",
    "    efield[z == R] = np.nan * np.ones(len(z[z == R]))\n",
    "\n",
    "    return efield\n",
    "\n",
    "\n",
    "def quadloop(fun, a, b, zvals=zvals, args=()):\n",
    "    \"\"\"Integrate with quad at several z values\n",
    "    \"\"\"\n",
    "    flist, elist = [], []\n",
    "    for z in zvals:\n",
    "        f, e = quad(lambda u: fu(u, z=z), a, b, args=args)\n",
    "        flist.append(f)\n",
    "        elist.append(e)\n",
    "\n",
    "    return np.array(flist), np.array(elist)\n",
    "\n",
    "\n",
    "# NOTE 1: I adapted the integrator from 3 so that it is compatible with arrays\n",
    "#         to pass zvals as an argument to f directly\n",
    "\n",
    "# NOTE 2: There is a singularity at u=1 when z=R. Scipy quad is not affected by\n",
    "#         this, but our integrator was. I adjusted the integrator so that it\n",
    "#         explores the nbhd of the u causing problem and that fixed it for this\n",
    "#         case. However, I am not sure my implementation would be stable for\n",
    "#         other similar situations (it might need a more extensive\n",
    "#         exploration).\n",
    "\n",
    "\n",
    "# Integrate fu to get E-field.\n",
    "# The n*pi factors just result from the normalizations I neglected above.\n",
    "# The warning we get comes from the first step of the exploration described\n",
    "#   above.\n",
    "a, b = -1, 1  # bounds on u\n",
    "field_myint, myerr, neval = integ.eff_integrate(fu, a, b, 1e-7, maxcalls=1000)\n",
    "field_myint *= 2*np.pi  # rescale to be consistent with Efield\n",
    "field_quad, quaderr = quadloop(fu, a, b)\n",
    "field_quad *= 2*np.pi\n",
    "field_def = Efield(zvals) * 4*np.pi  # rescale to be consistent w/ integration\n",
    "# Note: Efield not defined at R (I explicitely assigned to NaN)\n",
    "\n",
    "# plotting with z offset to show the shapes\n",
    "plt.plot(zvals, field_def, label=\"Analytical E\")\n",
    "plt.plot(zvals+2, field_myint, label=\"My integrator (z+2)\")\n",
    "plt.plot(zvals+4, field_quad, label=\"Scipy Quad (z+4)\")\n",
    "plt.xlabel(\"$z$ + offset\", fontsize=14)\n",
    "plt.ylabel(\"$E$\", fontsize=14)\n",
    "plt.title(\"E-field of shell with $R={}$\".format(R), fontsize=18)\n",
    "plt.legend(fontsize=14)\n",
    "if plotfile is not None:\n",
    "    plt.savefig(plotfile)\n",
    "    plt.close()\n",
    "else:\n",
    "    plt.show()\n"
   ]
  }
 ],
 "metadata": {
  "kernelspec": {
   "display_name": "Python 3",
   "language": "python",
   "name": "python3"
  },
  "language_info": {
   "codemirror_mode": {
    "name": "ipython",
    "version": 3
   },
   "file_extension": ".py",
   "mimetype": "text/x-python",
   "name": "python",
   "nbconvert_exporter": "python",
   "pygments_lexer": "ipython3",
   "version": "3.7.5"
  }
 },
 "nbformat": 4,
 "nbformat_minor": 2
}
