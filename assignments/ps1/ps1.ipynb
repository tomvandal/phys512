{
 "cells": [
  {
   "cell_type": "markdown",
   "metadata": {},
   "source": [
    "# Problem set 1 - Thomas Vandal"
   ]
  },
  {
   "cell_type": "code",
   "execution_count": 1,
   "metadata": {},
   "outputs": [],
   "source": [
    "# all imports for the problem set\n",
    "import numpy as np\n",
    "import matplotlib.pyplot as plt"
   ]
  },
  {
   "cell_type": "markdown",
   "metadata": {},
   "source": [
    "## Problem 1\n",
    "Numerical derivatives with four points to evaluate ($x \\pm \\delta$, $x \\pm 2\\delta$).\n",
    "\n",
    "### Part (a)\n",
    "Find an estimate of the first derivative at x.\n",
    "\n",
    "First, let's Taylor expand $f$ at the points mentionned above:\n",
    "$$\n",
    "f(x \\pm \\delta) \\approx f(x) \\pm f'(x)\\delta + \\frac{f''(x)\\delta^2}{2} \\pm \\frac{f'''(x)\\delta^3}{6} + \\frac{f^{(4)}(x)\\delta^4}{24} \\pm \\frac{f^{(5)}(x)\\delta^5}{120},\n",
    "$$\n",
    "$$\n",
    "f(x \\pm 2\\delta) \\approx f(x) \\pm 2 f'(x)\\delta + \\frac{4 f''(x)\\delta^2}{2} \\pm \\frac{8 f'''(x)\\delta^3}{6} + \\frac{16 f^{(4)}(x)\\delta^4}{24} \\pm \\frac{32 f^{(5)}(x)\\delta^5}{120}.\n",
    "$$\n",
    "We then subtract the superior and inferior point for each set, as we would do in a two-sided derivative. This gives us\n",
    "$$\n",
    "f(x + \\delta) - f(x - \\delta) \\approx 2 f'(x)\\delta + \\frac{f'''(x)\\delta^3}{3} + \\frac{f^{(5)}(x)\\delta^5}{60},\n",
    "$$\n",
    "and\n",
    "$$\n",
    "f(x + 2\\delta) - f(x - 2\\delta) \\approx 4 f'(x)\\delta + \\frac{8 f'''(x)\\delta^3}{3} + \\frac{f^{(5)}(x)\\delta^5}{60}.\n",
    "$$\n",
    "We can now take a linear combination of these two equations to cancel the $\\delta^3$ terms, resulting in\n",
    "$$\n",
    "8\\left[f(x + \\delta) - f(x - \\delta)\\right] - \\left[f(x + 2\\delta) - f(x - 2\\delta)\\right] \\approx 12\\delta f'(x) - \\frac{2}{5}\\delta^5 f^{(5)}(x),\n",
    "$$\n",
    "which we can solve for f'(x) to find\n",
    "$$\n",
    "f'(x) \\approx \\frac{8 f(x + \\delta) - 8 f(x - \\delta) - f(x + 2\\delta) + f(x - 2\\delta)}{12\\delta} + \\frac{\\delta^4}{30}f^{(5)}(x).\n",
    "$$\n",
    "The $\\delta^4$ term is the leading term of the truncating error, $e_t$, coming from the series approximation, so our final estimation of the derivative at x is\n",
    "$$\n",
    "f'(x) \\approx \\frac{8 f(x + \\delta) - 8 f(x - \\delta) - f(x + 2\\delta) + f(x - 2\\delta)}{12\\delta}.\n",
    "$$\n",
    "\n",
    "### Part (b)\n",
    "Find the optimal value of $\\delta$. Show that this estimate is at least roughly correct for $f(x)=\\exp{x}$ and $f(x)=\\exp{0.01 x}$.\n",
    "\n",
    "We saw the truncation error $e_t$ in (a), but we should also account for the roundoff error, $e_r$. In general, the numerical representation of a function evaluation can be given by $\\bar{f}(x) = f(x)(1+g_0\\epsilon)$ where $g_0$ is a random number of order unity and $\\epsilon$ is the machine precision ($~10^{-7}$ for single precision, $~10^{-16}$ for double). Using this, we get\n",
    "$$\n",
    "\\bar{f}'(x) = \\frac{8 \\bar{f}(x + \\delta) - 8 \\bar{f}(x - \\delta) - \\bar{f}(x + 2\\delta) + \\bar{f}(x - 2\\delta)}{12\\delta} + \\frac{\\delta^4}{30}f^{(5)}(x),\n",
    "$$\n",
    "or equivalently\n",
    "$$\n",
    "\\bar{f}'(x) = \\frac{8 (1+g_{1,+}\\epsilon)f(x + \\delta) - 8 (1+g_{1,-}\\epsilon)f(x - \\delta) - (1+g_{2,+}\\epsilon)f(x + 2\\delta) + (1+g_{2,-}\\epsilon)f(x - 2\\delta)}{12\\delta} + \\frac{\\delta^4}{30}f^{(5)}(x).\n",
    "$$\n",
    "The terms with $\\epsilon$ are errors, so we take the leading terms as we did in class, approximate the $g_{i,\\pm}$'s as 1 and obtain (in absolute value)\n",
    "$$\n",
    "\\bar{f}'(x) = \\frac{8 f(x + \\delta) - 8 f(x - \\delta) - f(x + 2\\delta) + f(x - 2\\delta)}{12\\delta} + \\frac{\\epsilon}{\\delta}\\left|{\\frac{18}{12}}f(x)\\right| + \\frac{\\delta^4}{30}f^{(5)}(x),\n",
    "$$\n",
    "so our total error is \n",
    "$$\n",
    "E = \\left|\\bar{f}'(x)-f(x)\\right| = e_r + e_t = \\frac{3\\epsilon }{2\\delta}\\left|f(x)\\right| + \\frac{\\delta^4}{30}\\left|f^{(5)}(x)\\right|.\n",
    "$$\n",
    "We now need to find the value of $\\delta$ that minimizes $E$. Differentiating $E$ w.r.t. $\\delta$ and equating to $0$, we find\n",
    "$$\n",
    "\\delta = \\left(\\frac{45 f(x)}{4 f^{(5)}}\\epsilon\\right)^{(1/5)},\n",
    "$$\n",
    "which is our optimal $\\delta$ to minimize the error.\n",
    "\n",
    "We will now test this optimal $\\delta$ prediction."
   ]
  },
  {
   "cell_type": "code",
   "execution_count": 2,
   "metadata": {},
   "outputs": [],
   "source": [
    "def check_delta(x, a, delta_arr=np.logspace(-15, 1, num=50), eps=1e-16, plotfile=None):\n",
    "    \"\"\" Script to verify delta optimization\n",
    "        \n",
    "        Test the equations derived above on exponential function.\n",
    "        This function is just a script allowing to change \n",
    "        the test parameters easily.\n",
    "        \n",
    "        Args:\n",
    "            x: where we evaluate the derivative\n",
    "            a: coefficient multiplying x in the exponential\n",
    "            delta_arr: values of delta where the equations are tested\n",
    "            eps: machine precision (python floats have double precision so default=1e-16)     \n",
    "        \n",
    "        Prints a short report and produces a plot of E vs delta.\n",
    "    \"\"\"\n",
    "    # Function depending on the parameters of check_delta\n",
    "    def diff(func, x, delta):\n",
    "        \"\"\"Five point differentiator\n",
    "        Args:\n",
    "            func: function to differentiate\n",
    "            x: value at which we take the derivative\n",
    "            delta: step size\n",
    "\n",
    "        returns:\n",
    "            deriv: first derivative of func at x\n",
    "        \"\"\"\n",
    "        deriv = (8.0*func(x+delta) - 8.0*func(x-delta) - func(x+2.0*delta) + func(x-2.0*delta))/(12.0*delta)\n",
    "\n",
    "        return deriv\n",
    "\n",
    "    def optdelta(func, funcd5, x, eps=eps):\n",
    "        \"\"\"Optimal step size for five point differentiator\n",
    "        Args:\n",
    "            func: function to differentiate\n",
    "            funcd5: fifth derivative of func\n",
    "            x: value where we take the derivative\n",
    "            eps: machine precision (default: 1e-16, approx double precision)\n",
    "        Returns:\n",
    "            delta: best step size to choose to derive func at x\n",
    "        \"\"\"\n",
    "        delta = (45.0 * func(x) * eps / (4.0*funcd5(x)))**0.2\n",
    "\n",
    "        return delta\n",
    "\n",
    "    def exp(x, a=a):\n",
    "        \"\"\"Exponential function\n",
    "        Args:\n",
    "            x: values where we evaluate the function\n",
    "            a: coefficient mulitplying x in exp\n",
    "        Returns:\n",
    "            exp(a*x)\n",
    "        \"\"\"\n",
    "        return np.exp(a*x)\n",
    "\n",
    "    def expdiff(x, a=a, n=5):\n",
    "        \"\"\"Nth derivative of exp(a*x)\n",
    "        Args:\n",
    "            x: values where we evaluate the function\n",
    "            a: coefficient mulitplying x in exp\n",
    "            n: order of the derivative to be returned\n",
    "        Returns:\n",
    "            a**n * exp(a*n)\n",
    "        \"\"\"\n",
    "        return a**n * np.exp(a*x)\n",
    "\n",
    "    \n",
    "    # evaluate error and delta prediction\n",
    "    deriv_arr = diff(exp, x, delta_arr)\n",
    "    deriv_true = expdiff(x, n=1)\n",
    "    err_arr = np.abs(deriv_arr - deriv_true)\n",
    "    delta_pred = optdelta(exp, expdiff, x)\n",
    "    \n",
    "    # print some info\n",
    "    print(\"Derivative of exp({} * x) at x={}\".format(a,x))\n",
    "    print(\"  Predicted delta:\", delta_pred)\n",
    "    print(\"  Delta givin minimal error:\", delta_arr[np.argmin(err_arr)])\n",
    "    \n",
    "\n",
    "    plt.plot(delta_arr, err_arr, 'k.', label=r\"Calculated error\")\n",
    "    plt.axvline(delta_pred, linestyle='--', label=r\"Predicted $\\delta$\")\n",
    "    plt.xlabel(r\"$\\delta$\", fontsize=14)\n",
    "    plt.ylabel(r\"$E$\", fontsize=14)\n",
    "    plt.title(r\"Error vs. step size\", fontsize=18)\n",
    "    plt.tick_params(labelsize=12)\n",
    "    plt.xscale(\"log\")\n",
    "    plt.yscale(\"log\")\n",
    "    if plotfile is not None:\n",
    "        plt.savefig(plotfile)\n",
    "    plt.show()"
   ]
  },
  {
   "cell_type": "code",
   "execution_count": 3,
   "metadata": {
    "scrolled": false
   },
   "outputs": [
    {
     "name": "stdout",
     "output_type": "stream",
     "text": [
      "Derivative of exp(1 * x) at x=0\n",
      "  Predicted delta: 0.0010238362555396092\n",
      "  Delta givin minimal error: 0.0005689866029018281\n"
     ]
    },
    {
     "data": {
      "image/png": "[encoded data removed]",
      "text/plain": [
       "<Figure size 432x288 with 1 Axes>"
      ]
     },
     "metadata": {
      "needs_background": "light"
     },
     "output_type": "display_data"
    },
    {
     "name": "stdout",
     "output_type": "stream",
     "text": [
      "Derivative of exp(0.01 * x) at x=0\n",
      "  Predicted delta: 0.10238362555396095\n",
      "  Delta givin minimal error: 0.10985411419875572\n"
     ]
    },
    {
     "data": {
      "image/png": "[encoded data removed]",
      "text/plain": [
       "<Figure size 432x288 with 1 Axes>"
      ]
     },
     "metadata": {
      "needs_background": "light"
     },
     "output_type": "display_data"
    }
   ],
   "source": [
    "# test at x=0\n",
    "check_delta(0, 1)\n",
    "check_delta(0, 0.01)"
   ]
  },
  {
   "cell_type": "code",
   "execution_count": 4,
   "metadata": {},
   "outputs": [
    {
     "name": "stdout",
     "output_type": "stream",
     "text": [
      "Derivative of exp(1 * x) at x=100\n",
      "  Predicted delta: 0.0010238362555396092\n",
      "  Delta givin minimal error: 0.0025595479226995332\n"
     ]
    },
    {
     "data": {
      "image/png": "[encoded data removed]",
      "text/plain": [
       "<Figure size 432x288 with 1 Axes>"
      ]
     },
     "metadata": {
      "needs_background": "light"
     },
     "output_type": "display_data"
    },
    {
     "name": "stdout",
     "output_type": "stream",
     "text": [
      "Derivative of exp(0.01 * x) at x=100\n",
      "  Predicted delta: 0.10238362555396095\n",
      "  Delta givin minimal error: 0.05179474679231202\n"
     ]
    },
    {
     "data": {
      "image/png": "[encoded data removed]",
      "text/plain": [
       "<Figure size 432x288 with 1 Axes>"
      ]
     },
     "metadata": {
      "needs_background": "light"
     },
     "output_type": "display_data"
    }
   ],
   "source": [
    "check_delta(100, 1)\n",
    "check_delta(100, 0.01)"
   ]
  },
  {
   "cell_type": "markdown",
   "metadata": {},
   "source": [
    "By performing the same tests at $x=0,100$, and $a=1, 0.01$, we see that the predicted $\\delta$'s are reasonably close to the value found in the test. Some $\\delta$'s are off by a factor of two, which could be due to the truncation error, but the answers are still have the same order of magnitude, which is reasonably close.\n",
    "\n",
    "## Problem 2"
   ]
  }
 ],
 "metadata": {
  "kernelspec": {
   "display_name": "Python 3",
   "language": "python",
   "name": "python3"
  },
  "language_info": {
   "codemirror_mode": {
    "name": "ipython",
    "version": 3
   },
   "file_extension": ".py",
   "mimetype": "text/x-python",
   "name": "python",
   "nbconvert_exporter": "python",
   "pygments_lexer": "ipython3",
   "version": "3.7.3"
  }
 },
 "nbformat": 4,
 "nbformat_minor": 2
}
